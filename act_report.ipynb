{
 "cells": [
  {
   "cell_type": "markdown",
   "metadata": {},
   "source": [
    "## Introduction"
   ]
  },
  {
   "cell_type": "markdown",
   "metadata": {},
   "source": [
    "The analysis is of archive of the [WeRateDogs](https://en.wikipedia.org/wiki/WeRateDogs) twitter account. In my analysis I focused on studying the dogs with highest and least rating. Further, I have looked at the relationship between number of favorites and ratings. Also, I would take insights from the overall statistics of numerical values."
   ]
  },
  {
   "cell_type": "markdown",
   "metadata": {},
   "source": [
    "### Analysis"
   ]
  },
  {
   "cell_type": "markdown",
   "metadata": {},
   "source": [
    "#### The Dog With Maximum Rating"
   ]
  },
  {
   "cell_type": "markdown",
   "metadata": {},
   "source": [
    "The dog with the highest rating is unsurprisingly the dog below."
   ]
  },
  {
   "cell_type": "code",
   "execution_count": 2,
   "metadata": {},
   "outputs": [
    {
     "data": {
      "text/html": [
       "<img src = \"maximum_rating.png\" />"
      ],
      "text/plain": [
       "<IPython.core.display.HTML object>"
      ]
     },
     "metadata": {},
     "output_type": "display_data"
    }
   ],
   "source": [
    "from IPython.display import display, HTML\n",
    "display(HTML('<img src = \"maximum_rating.png\" />'))"
   ]
  },
  {
   "cell_type": "markdown",
   "metadata": {},
   "source": [
    "The above dog Atticus (name) was posted on July, 4<sup>th</sup> 2016. July 4<sup>th</sup> is the American indepedence day. That explains the American Flag, hat, and the bow tie. The Neural Network used for classifying images, no wonder predicted the image to be of a bow tie or a sunglass. These two do seem to be dominating the image. The dog had the rating 161.45 (ratings was calulated as numerator_rating/denominator_rating) and if we look at the numerator_rating column in the original twitter enhanced archive, we can see that it is 1776. 1776 was the year of American independence from the British Empire. "
   ]
  },
  {
   "cell_type": "markdown",
   "metadata": {},
   "source": [
    "#### The Dogs With Minimum Ratings"
   ]
  },
  {
   "cell_type": "markdown",
   "metadata": {},
   "source": [
    "There were two posts with minimum ratings. The first one is as below"
   ]
  },
  {
   "cell_type": "code",
   "execution_count": 3,
   "metadata": {},
   "outputs": [
    {
     "data": {
      "text/html": [
       "<img style = \"max-width:30%; height:auto;\" src=\"minimum_rating_1.png\"/>"
      ],
      "text/plain": [
       "<IPython.core.display.HTML object>"
      ]
     },
     "metadata": {},
     "output_type": "display_data"
    }
   ],
   "source": [
    "display(HTML('<img style = \"max-width:30%; height:auto;\" src=\"minimum_rating_1.png\"/>'))"
   ]
  },
  {
   "cell_type": "markdown",
   "metadata": {},
   "source": [
    "The poor dog though very cute, was rated 0. The neural network predicted him to be a swing, which he is obviously not. The dog had a retweet count of over 3000 and was favorited by over 24000 users.\n",
    "\n",
    "Let's now look at the second dog with minimum rating"
   ]
  },
  {
   "cell_type": "code",
   "execution_count": 4,
   "metadata": {},
   "outputs": [
    {
     "data": {
      "text/html": [
       "<img style=\"max-width:30%; height:auto;\" src = \"minimum_rating_2.png\"/>"
      ],
      "text/plain": [
       "<IPython.core.display.HTML object>"
      ]
     },
     "metadata": {},
     "output_type": "display_data"
    }
   ],
   "source": [
    "display(HTML('<img style=\"max-width:30%; height:auto;\" src = \"minimum_rating_2.png\"/>'))"
   ]
  },
  {
   "cell_type": "markdown",
   "metadata": {},
   "source": [
    "The image above is no where near a dog. It doesn't really matter that the neural network didn't predict it right. The image above has a well deserved rating of 0."
   ]
  },
  {
   "cell_type": "markdown",
   "metadata": {},
   "source": [
    "#### The Most Common Dog Names"
   ]
  },
  {
   "cell_type": "markdown",
   "metadata": {},
   "source": [
    "Disregrding the Nones, the most common names rated by WeRateDogs twiiter account are Charlie, Lucy, Oliver, and Cooper."
   ]
  },
  {
   "cell_type": "markdown",
   "metadata": {},
   "source": [
    "#### The Most Common Dog Stages"
   ]
  },
  {
   "cell_type": "markdown",
   "metadata": {},
   "source": [
    "The most common dog stage is Pupper (total count 203) followed by Doggo (total count 74)."
   ]
  },
  {
   "cell_type": "markdown",
   "metadata": {},
   "source": [
    "#### The Graphs"
   ]
  },
  {
   "cell_type": "markdown",
   "metadata": {},
   "source": [
    "##### Raitngs over Time"
   ]
  },
  {
   "cell_type": "markdown",
   "metadata": {},
   "source": [
    "Let's look at how ratings change with time. I ploted a scatter plot of ratings against time. I have plotted ratings less than 2 to take care of the outliers. "
   ]
  },
  {
   "cell_type": "markdown",
   "metadata": {},
   "source": [
    "<img src=\"ratings_over_time.png\"/>"
   ]
  },
  {
   "cell_type": "markdown",
   "metadata": {},
   "source": [
    "We can see that ratings less than 0.9 fade away with time and most ratings are converging to 1.1 i.e. 11 as numerator rating."
   ]
  },
  {
   "cell_type": "markdown",
   "metadata": {},
   "source": [
    "##### Correlation between Retweet Count and Favorite Count"
   ]
  },
  {
   "cell_type": "markdown",
   "metadata": {},
   "source": [
    "<img src=\"retweets_vs_favorites.png\"/>"
   ]
  },
  {
   "cell_type": "markdown",
   "metadata": {},
   "source": [
    "The above scatter plot shows solid correlation between retweet counts and favorite counts, as should be expected. Infact, the pearson coefficient of correlation is '0.917'. "
   ]
  }
 ],
 "metadata": {
  "kernelspec": {
   "display_name": "Python 3",
   "language": "python",
   "name": "python3"
  },
  "language_info": {
   "codemirror_mode": {
    "name": "ipython",
    "version": 3
   },
   "file_extension": ".py",
   "mimetype": "text/x-python",
   "name": "python",
   "nbconvert_exporter": "python",
   "pygments_lexer": "ipython3",
   "version": "3.6.3"
  }
 },
 "nbformat": 4,
 "nbformat_minor": 2
}
